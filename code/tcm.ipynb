{
 "cells": [
  {
   "cell_type": "code",
   "execution_count": 70,
   "outputs": [],
   "source": [
    "import time\n",
    "\n",
    "import numpy as np\n",
    "import pandas as pd\n",
    "import seaborn as sns\n",
    "import matplotlib.pyplot as plt\n",
    "from mlxtend.frequent_patterns import apriori\n",
    "from mlxtend.frequent_patterns import association_rules"
   ],
   "metadata": {
    "collapsed": false,
    "ExecuteTime": {
     "end_time": "2023-11-17T06:43:13.331751600Z",
     "start_time": "2023-11-17T06:43:13.306239500Z"
    }
   },
   "id": "bb89696cc886e84"
  },
  {
   "cell_type": "code",
   "execution_count": 71,
   "outputs": [
    {
     "data": {
      "text/plain": "     title                                               href  \\\n0      安肾丸  http://zhongyaofangji.com//a/anshenwan_12084.html   \n1      百部丸         http://zhongyaofangji.com//b/baibuwan.html   \n2      白矾丸        http://zhongyaofangji.com//b/baifanwan.html   \n3     白茯苓汤    http://zhongyaofangji.com//b/baifulingtang.html   \n4      百果酒        http://zhongyaofangji.com//b/baiguojiu.html   \n..     ...                                                ...   \n236    延寿丹       http://zhongyaofangji.com//y/yanshoudan.html   \n237    玉真丸        http://zhongyaofangji.com//y/yuzhenwan.html   \n238  钟乳泽兰圆  http://zhongyaofangji.com//z/zhongruzelanyuan....   \n239   驻世珍馐    http://zhongyaofangji.com//z/zhushizhenxiu.html   \n240  茱萸内消圆  http://zhongyaofangji.com//z/zhuyuneixiaoyuan....   \n\n                                  medical_prescription  \\\n0    【处方】 肉桂 （去粗皮，不见火） 川乌 （炮，去皮、脐）各500克  桃仁 （麸炒） 白蒺...   \n1    【处方】 百部根 90克  升麻 15克  桂心   五味子   甘草   紫菀   干姜 ...   \n2    【处方】 白矾 灰3钱，田父3分（烧灰）， 蛇蜕皮 1条（炒令微黄）， 青黛 1分（细研），...   \n3    【处方】 白茯苓 （去黑皮）1两， 五灵脂 1两， 白芷 （微炒）1两， 黄明胶 （两片）1...   \n4    【处方】 香橼 2， 佛手 2个， 核桃 肉半斤， 龙眼肉 半斤， 莲肉 半斤， 橘饼 半斤...   \n..                                                 ...   \n236  【处方】 天门冬 （去心） 远志 （去心） 山药   巴戟 各60克  赤石脂   车前子 ...   \n237  【处方】 龙骨 （捣罗，水飞三遍，重研令细，去水干，入熟绢袋盛，缝合，置米下，炊一遍了，干后...   \n238  【处方】 钟乳粉 三两， 泽兰 二两二钱半， 芜荑 （炒）半两， 麦门冬 （去心.焙）一两半...   \n239  【处方】 当归 （酒洗）南芎  白芍 （酒炒） 熟地黄   菟丝子 （酒制） 巴戟 （酒浸，...   \n240  【处方】 吴茱萸 （汤洗七次.焙）、 陈皮 （去白）、川楝（蒸.去皮.核）、 肉桂 （去粗皮...   \n\n                                     prescription_list  \\\n0    [肉桂, 川乌, 桃仁, 白蒺藜, 巴戟, 山药, 茯苓, 肉苁蓉, 石斛, 萆薢, 白术,...   \n1                       [百部根, 升麻, 桂心, 五味子, 甘草, 紫菀, 干姜]   \n2                   [白矾, 蛇蜕皮, 青黛, 鹤虱, 朱砂, 麝香, 芦荟, 莨菪子]   \n3                               [白茯苓, 五灵脂, 白芷, 黄明胶, 燥]   \n4               [香橼, 佛手, 核桃, 龙眼肉, 莲肉, 橘饼, 柏子仁, 松子, 红枣]   \n..                                                 ...   \n236  [天门冬, 远志, 山药, 巴戟, 赤石脂, 车前子, 菖蒲, 柏子仁, 泽泻, 川椒, 熟...   \n237                                  [龙骨, 菟丝子, 鹿茸, 韭子]   \n238  [钟乳粉, 泽兰, 芜荑, 麦门冬, 山茱萸, 艾叶, 防风, 柏子仁, 人参, 石膏, 石...   \n239  [当归, 白芍, 熟地黄, 菟丝子, 巴戟, 肉苁蓉, 益智仁, 牛膝, 杜仲, 山药, 青...   \n240            [吴茱萸, 陈皮, 肉桂, 马蔺花, 青皮, 山药, 茴香, 山茱萸, 木香]   \n\n                                method_of_making  \\\n0                         【制法】上药为末，炼蜜为丸，如 梧桐子 大。   \n1                          【制法】上为细末，炼蜜为丸， 梧桐子 大。   \n2                     【制法】上为末，同研令匀，以烧饭为丸，如 绿豆 大。   \n3                                      【制法】上为粗末。   \n4                                            NaN   \n..                                           ...   \n236                           【制法】上药为末，蜜丸 梧桐子 大。   \n237                【制法】上四味，捣罗为末，炼 白蜜 和捣千下，丸如小豆大。   \n238                                          NaN   \n239  【制法】上药共研细末，用豮 猪肉 不拘多少切片，酒炒熟，入药再炒，不可用水，瓷器牧贮。   \n240                                          NaN   \n\n                                   usage_and_dosage             excerpt  \n0      【用法用量】每服30丸，空腹时用温酒或 盐汤 送下； 小肠气 者，用炒 茴香 盐酒送下。  【摘录】 《太平惠民和剂局方》 卷五  \n1                            【用法用量】每服3克，食后、临卧前开水送下。   【摘录】 《备急千金要方》 卷十八  \n2                              【用法用量】每1岁儿服2丸，以粥饮送下。      【摘录】 《圣惠》 卷八十七  \n3    【用法用量】每服3钱匕，水1盏，煎至8分，去滓，入蜜少许，更煎2沸，放温，细呷服，不拘时候。    【摘录】 《圣济总录》 卷八十八  \n4                                  【用法用量】干 烧酒 50斤浸。       【摘录】 《仙拈集》 卷三  \n..                                              ...                 ...  \n236                                    【用法用量】每服70丸。      【摘录】 《丹溪心法》 卷三  \n237                            【用法用量】每次用温酒下7丸，一日二次。    【摘录】 《圣济总录》 卷一八五  \n238               【用法用量】每服三十圆至五十圆，温酒或米饮下，空心，食前，日二服。  【摘录】《宋· 太平惠民和剂局方 》  \n239                                  【用法用量】空腹时好酒送下。      【摘录】 《万病回春》 卷四  \n240                   【用法用量】每服三十圆至五十圆，空心，温酒或 盐汤 吞下。  【摘录】《宋· 太平惠民和剂局方 》  \n\n[241 rows x 7 columns]",
      "text/html": "<div>\n<style scoped>\n    .dataframe tbody tr th:only-of-type {\n        vertical-align: middle;\n    }\n\n    .dataframe tbody tr th {\n        vertical-align: top;\n    }\n\n    .dataframe thead th {\n        text-align: right;\n    }\n</style>\n<table border=\"1\" class=\"dataframe\">\n  <thead>\n    <tr style=\"text-align: right;\">\n      <th></th>\n      <th>title</th>\n      <th>href</th>\n      <th>medical_prescription</th>\n      <th>prescription_list</th>\n      <th>method_of_making</th>\n      <th>usage_and_dosage</th>\n      <th>excerpt</th>\n    </tr>\n  </thead>\n  <tbody>\n    <tr>\n      <th>0</th>\n      <td>安肾丸</td>\n      <td>http://zhongyaofangji.com//a/anshenwan_12084.html</td>\n      <td>【处方】 肉桂 （去粗皮，不见火） 川乌 （炮，去皮、脐）各500克  桃仁 （麸炒） 白蒺...</td>\n      <td>[肉桂, 川乌, 桃仁, 白蒺藜, 巴戟, 山药, 茯苓, 肉苁蓉, 石斛, 萆薢, 白术,...</td>\n      <td>【制法】上药为末，炼蜜为丸，如 梧桐子 大。</td>\n      <td>【用法用量】每服30丸，空腹时用温酒或 盐汤 送下； 小肠气 者，用炒 茴香 盐酒送下。</td>\n      <td>【摘录】 《太平惠民和剂局方》 卷五</td>\n    </tr>\n    <tr>\n      <th>1</th>\n      <td>百部丸</td>\n      <td>http://zhongyaofangji.com//b/baibuwan.html</td>\n      <td>【处方】 百部根 90克  升麻 15克  桂心   五味子   甘草   紫菀   干姜 ...</td>\n      <td>[百部根, 升麻, 桂心, 五味子, 甘草, 紫菀, 干姜]</td>\n      <td>【制法】上为细末，炼蜜为丸， 梧桐子 大。</td>\n      <td>【用法用量】每服3克，食后、临卧前开水送下。</td>\n      <td>【摘录】 《备急千金要方》 卷十八</td>\n    </tr>\n    <tr>\n      <th>2</th>\n      <td>白矾丸</td>\n      <td>http://zhongyaofangji.com//b/baifanwan.html</td>\n      <td>【处方】 白矾 灰3钱，田父3分（烧灰）， 蛇蜕皮 1条（炒令微黄）， 青黛 1分（细研），...</td>\n      <td>[白矾, 蛇蜕皮, 青黛, 鹤虱, 朱砂, 麝香, 芦荟, 莨菪子]</td>\n      <td>【制法】上为末，同研令匀，以烧饭为丸，如 绿豆 大。</td>\n      <td>【用法用量】每1岁儿服2丸，以粥饮送下。</td>\n      <td>【摘录】 《圣惠》 卷八十七</td>\n    </tr>\n    <tr>\n      <th>3</th>\n      <td>白茯苓汤</td>\n      <td>http://zhongyaofangji.com//b/baifulingtang.html</td>\n      <td>【处方】 白茯苓 （去黑皮）1两， 五灵脂 1两， 白芷 （微炒）1两， 黄明胶 （两片）1...</td>\n      <td>[白茯苓, 五灵脂, 白芷, 黄明胶, 燥]</td>\n      <td>【制法】上为粗末。</td>\n      <td>【用法用量】每服3钱匕，水1盏，煎至8分，去滓，入蜜少许，更煎2沸，放温，细呷服，不拘时候。</td>\n      <td>【摘录】 《圣济总录》 卷八十八</td>\n    </tr>\n    <tr>\n      <th>4</th>\n      <td>百果酒</td>\n      <td>http://zhongyaofangji.com//b/baiguojiu.html</td>\n      <td>【处方】 香橼 2， 佛手 2个， 核桃 肉半斤， 龙眼肉 半斤， 莲肉 半斤， 橘饼 半斤...</td>\n      <td>[香橼, 佛手, 核桃, 龙眼肉, 莲肉, 橘饼, 柏子仁, 松子, 红枣]</td>\n      <td>NaN</td>\n      <td>【用法用量】干 烧酒 50斤浸。</td>\n      <td>【摘录】 《仙拈集》 卷三</td>\n    </tr>\n    <tr>\n      <th>...</th>\n      <td>...</td>\n      <td>...</td>\n      <td>...</td>\n      <td>...</td>\n      <td>...</td>\n      <td>...</td>\n      <td>...</td>\n    </tr>\n    <tr>\n      <th>236</th>\n      <td>延寿丹</td>\n      <td>http://zhongyaofangji.com//y/yanshoudan.html</td>\n      <td>【处方】 天门冬 （去心） 远志 （去心） 山药   巴戟 各60克  赤石脂   车前子 ...</td>\n      <td>[天门冬, 远志, 山药, 巴戟, 赤石脂, 车前子, 菖蒲, 柏子仁, 泽泻, 川椒, 熟...</td>\n      <td>【制法】上药为末，蜜丸 梧桐子 大。</td>\n      <td>【用法用量】每服70丸。</td>\n      <td>【摘录】 《丹溪心法》 卷三</td>\n    </tr>\n    <tr>\n      <th>237</th>\n      <td>玉真丸</td>\n      <td>http://zhongyaofangji.com//y/yuzhenwan.html</td>\n      <td>【处方】 龙骨 （捣罗，水飞三遍，重研令细，去水干，入熟绢袋盛，缝合，置米下，炊一遍了，干后...</td>\n      <td>[龙骨, 菟丝子, 鹿茸, 韭子]</td>\n      <td>【制法】上四味，捣罗为末，炼 白蜜 和捣千下，丸如小豆大。</td>\n      <td>【用法用量】每次用温酒下7丸，一日二次。</td>\n      <td>【摘录】 《圣济总录》 卷一八五</td>\n    </tr>\n    <tr>\n      <th>238</th>\n      <td>钟乳泽兰圆</td>\n      <td>http://zhongyaofangji.com//z/zhongruzelanyuan....</td>\n      <td>【处方】 钟乳粉 三两， 泽兰 二两二钱半， 芜荑 （炒）半两， 麦门冬 （去心.焙）一两半...</td>\n      <td>[钟乳粉, 泽兰, 芜荑, 麦门冬, 山茱萸, 艾叶, 防风, 柏子仁, 人参, 石膏, 石...</td>\n      <td>NaN</td>\n      <td>【用法用量】每服三十圆至五十圆，温酒或米饮下，空心，食前，日二服。</td>\n      <td>【摘录】《宋· 太平惠民和剂局方 》</td>\n    </tr>\n    <tr>\n      <th>239</th>\n      <td>驻世珍馐</td>\n      <td>http://zhongyaofangji.com//z/zhushizhenxiu.html</td>\n      <td>【处方】 当归 （酒洗）南芎  白芍 （酒炒） 熟地黄   菟丝子 （酒制） 巴戟 （酒浸，...</td>\n      <td>[当归, 白芍, 熟地黄, 菟丝子, 巴戟, 肉苁蓉, 益智仁, 牛膝, 杜仲, 山药, 青...</td>\n      <td>【制法】上药共研细末，用豮 猪肉 不拘多少切片，酒炒熟，入药再炒，不可用水，瓷器牧贮。</td>\n      <td>【用法用量】空腹时好酒送下。</td>\n      <td>【摘录】 《万病回春》 卷四</td>\n    </tr>\n    <tr>\n      <th>240</th>\n      <td>茱萸内消圆</td>\n      <td>http://zhongyaofangji.com//z/zhuyuneixiaoyuan....</td>\n      <td>【处方】 吴茱萸 （汤洗七次.焙）、 陈皮 （去白）、川楝（蒸.去皮.核）、 肉桂 （去粗皮...</td>\n      <td>[吴茱萸, 陈皮, 肉桂, 马蔺花, 青皮, 山药, 茴香, 山茱萸, 木香]</td>\n      <td>NaN</td>\n      <td>【用法用量】每服三十圆至五十圆，空心，温酒或 盐汤 吞下。</td>\n      <td>【摘录】《宋· 太平惠民和剂局方 》</td>\n    </tr>\n  </tbody>\n</table>\n<p>241 rows × 7 columns</p>\n</div>"
     },
     "execution_count": 71,
     "metadata": {},
     "output_type": "execute_result"
    }
   ],
   "source": [
    "data = pd.read_json('./data/tcm_detail.json')\n",
    "data"
   ],
   "metadata": {
    "collapsed": false,
    "ExecuteTime": {
     "end_time": "2023-11-17T06:43:13.364585400Z",
     "start_time": "2023-11-17T06:43:13.315752Z"
    }
   },
   "id": "4d348d7a2c6532fb"
  },
  {
   "cell_type": "code",
   "execution_count": 72,
   "outputs": [
    {
     "data": {
      "text/plain": "     title                                  prescription_list\n0      安肾丸  [肉桂, 川乌, 桃仁, 白蒺藜, 巴戟, 山药, 茯苓, 肉苁蓉, 石斛, 萆薢, 白术,...\n1      百部丸                     [百部根, 升麻, 桂心, 五味子, 甘草, 紫菀, 干姜]\n2      白矾丸                 [白矾, 蛇蜕皮, 青黛, 鹤虱, 朱砂, 麝香, 芦荟, 莨菪子]\n3     白茯苓汤                             [白茯苓, 五灵脂, 白芷, 黄明胶, 燥]\n4      百果酒             [香橼, 佛手, 核桃, 龙眼肉, 莲肉, 橘饼, 柏子仁, 松子, 红枣]\n..     ...                                                ...\n236    延寿丹  [天门冬, 远志, 山药, 巴戟, 赤石脂, 车前子, 菖蒲, 柏子仁, 泽泻, 川椒, 熟...\n237    玉真丸                                  [龙骨, 菟丝子, 鹿茸, 韭子]\n238  钟乳泽兰圆  [钟乳粉, 泽兰, 芜荑, 麦门冬, 山茱萸, 艾叶, 防风, 柏子仁, 人参, 石膏, 石...\n239   驻世珍馐  [当归, 白芍, 熟地黄, 菟丝子, 巴戟, 肉苁蓉, 益智仁, 牛膝, 杜仲, 山药, 青...\n240  茱萸内消圆            [吴茱萸, 陈皮, 肉桂, 马蔺花, 青皮, 山药, 茴香, 山茱萸, 木香]\n\n[241 rows x 2 columns]",
      "text/html": "<div>\n<style scoped>\n    .dataframe tbody tr th:only-of-type {\n        vertical-align: middle;\n    }\n\n    .dataframe tbody tr th {\n        vertical-align: top;\n    }\n\n    .dataframe thead th {\n        text-align: right;\n    }\n</style>\n<table border=\"1\" class=\"dataframe\">\n  <thead>\n    <tr style=\"text-align: right;\">\n      <th></th>\n      <th>title</th>\n      <th>prescription_list</th>\n    </tr>\n  </thead>\n  <tbody>\n    <tr>\n      <th>0</th>\n      <td>安肾丸</td>\n      <td>[肉桂, 川乌, 桃仁, 白蒺藜, 巴戟, 山药, 茯苓, 肉苁蓉, 石斛, 萆薢, 白术,...</td>\n    </tr>\n    <tr>\n      <th>1</th>\n      <td>百部丸</td>\n      <td>[百部根, 升麻, 桂心, 五味子, 甘草, 紫菀, 干姜]</td>\n    </tr>\n    <tr>\n      <th>2</th>\n      <td>白矾丸</td>\n      <td>[白矾, 蛇蜕皮, 青黛, 鹤虱, 朱砂, 麝香, 芦荟, 莨菪子]</td>\n    </tr>\n    <tr>\n      <th>3</th>\n      <td>白茯苓汤</td>\n      <td>[白茯苓, 五灵脂, 白芷, 黄明胶, 燥]</td>\n    </tr>\n    <tr>\n      <th>4</th>\n      <td>百果酒</td>\n      <td>[香橼, 佛手, 核桃, 龙眼肉, 莲肉, 橘饼, 柏子仁, 松子, 红枣]</td>\n    </tr>\n    <tr>\n      <th>...</th>\n      <td>...</td>\n      <td>...</td>\n    </tr>\n    <tr>\n      <th>236</th>\n      <td>延寿丹</td>\n      <td>[天门冬, 远志, 山药, 巴戟, 赤石脂, 车前子, 菖蒲, 柏子仁, 泽泻, 川椒, 熟...</td>\n    </tr>\n    <tr>\n      <th>237</th>\n      <td>玉真丸</td>\n      <td>[龙骨, 菟丝子, 鹿茸, 韭子]</td>\n    </tr>\n    <tr>\n      <th>238</th>\n      <td>钟乳泽兰圆</td>\n      <td>[钟乳粉, 泽兰, 芜荑, 麦门冬, 山茱萸, 艾叶, 防风, 柏子仁, 人参, 石膏, 石...</td>\n    </tr>\n    <tr>\n      <th>239</th>\n      <td>驻世珍馐</td>\n      <td>[当归, 白芍, 熟地黄, 菟丝子, 巴戟, 肉苁蓉, 益智仁, 牛膝, 杜仲, 山药, 青...</td>\n    </tr>\n    <tr>\n      <th>240</th>\n      <td>茱萸内消圆</td>\n      <td>[吴茱萸, 陈皮, 肉桂, 马蔺花, 青皮, 山药, 茴香, 山茱萸, 木香]</td>\n    </tr>\n  </tbody>\n</table>\n<p>241 rows × 2 columns</p>\n</div>"
     },
     "execution_count": 72,
     "metadata": {},
     "output_type": "execute_result"
    }
   ],
   "source": [
    "data = data[['title', 'prescription_list']]\n",
    "data"
   ],
   "metadata": {
    "collapsed": false,
    "ExecuteTime": {
     "end_time": "2023-11-17T06:43:13.365776800Z",
     "start_time": "2023-11-17T06:43:13.346441600Z"
    }
   },
   "id": "9f2f705079492124"
  },
  {
   "cell_type": "code",
   "execution_count": 73,
   "outputs": [
    {
     "name": "stdout",
     "output_type": "stream",
     "text": [
      "<class 'pandas.core.frame.DataFrame'>\n",
      "RangeIndex: 241 entries, 0 to 240\n",
      "Data columns (total 2 columns):\n",
      " #   Column             Non-Null Count  Dtype \n",
      "---  ------             --------------  ----- \n",
      " 0   title              241 non-null    object\n",
      " 1   prescription_list  240 non-null    object\n",
      "dtypes: object(2)\n",
      "memory usage: 3.9+ KB\n"
     ]
    }
   ],
   "source": [
    "data.info()"
   ],
   "metadata": {
    "collapsed": false,
    "ExecuteTime": {
     "end_time": "2023-11-17T06:43:13.377192900Z",
     "start_time": "2023-11-17T06:43:13.361583Z"
    }
   },
   "id": "ed4ad2233171f0d8"
  },
  {
   "cell_type": "code",
   "execution_count": 74,
   "outputs": [
    {
     "data": {
      "text/plain": "title                0\nprescription_list    1\ndtype: int64"
     },
     "execution_count": 74,
     "metadata": {},
     "output_type": "execute_result"
    }
   ],
   "source": [
    "# 检查缺失值\n",
    "nan_values = data.isna().sum()\n",
    "nan_values"
   ],
   "metadata": {
    "collapsed": false,
    "ExecuteTime": {
     "end_time": "2023-11-17T06:43:13.415850100Z",
     "start_time": "2023-11-17T06:43:13.378534Z"
    }
   },
   "id": "c7e7c4162e10831e"
  },
  {
   "cell_type": "code",
   "execution_count": 75,
   "outputs": [
    {
     "data": {
      "text/plain": "     title                                  prescription_list\n0      安肾丸  [肉桂, 川乌, 桃仁, 白蒺藜, 巴戟, 山药, 茯苓, 肉苁蓉, 石斛, 萆薢, 白术,...\n1      百部丸                     [百部根, 升麻, 桂心, 五味子, 甘草, 紫菀, 干姜]\n2      白矾丸                 [白矾, 蛇蜕皮, 青黛, 鹤虱, 朱砂, 麝香, 芦荟, 莨菪子]\n3     白茯苓汤                             [白茯苓, 五灵脂, 白芷, 黄明胶, 燥]\n4      百果酒             [香橼, 佛手, 核桃, 龙眼肉, 莲肉, 橘饼, 柏子仁, 松子, 红枣]\n..     ...                                                ...\n236    延寿丹  [天门冬, 远志, 山药, 巴戟, 赤石脂, 车前子, 菖蒲, 柏子仁, 泽泻, 川椒, 熟...\n237    玉真丸                                  [龙骨, 菟丝子, 鹿茸, 韭子]\n238  钟乳泽兰圆  [钟乳粉, 泽兰, 芜荑, 麦门冬, 山茱萸, 艾叶, 防风, 柏子仁, 人参, 石膏, 石...\n239   驻世珍馐  [当归, 白芍, 熟地黄, 菟丝子, 巴戟, 肉苁蓉, 益智仁, 牛膝, 杜仲, 山药, 青...\n240  茱萸内消圆            [吴茱萸, 陈皮, 肉桂, 马蔺花, 青皮, 山药, 茴香, 山茱萸, 木香]\n\n[240 rows x 2 columns]",
      "text/html": "<div>\n<style scoped>\n    .dataframe tbody tr th:only-of-type {\n        vertical-align: middle;\n    }\n\n    .dataframe tbody tr th {\n        vertical-align: top;\n    }\n\n    .dataframe thead th {\n        text-align: right;\n    }\n</style>\n<table border=\"1\" class=\"dataframe\">\n  <thead>\n    <tr style=\"text-align: right;\">\n      <th></th>\n      <th>title</th>\n      <th>prescription_list</th>\n    </tr>\n  </thead>\n  <tbody>\n    <tr>\n      <th>0</th>\n      <td>安肾丸</td>\n      <td>[肉桂, 川乌, 桃仁, 白蒺藜, 巴戟, 山药, 茯苓, 肉苁蓉, 石斛, 萆薢, 白术,...</td>\n    </tr>\n    <tr>\n      <th>1</th>\n      <td>百部丸</td>\n      <td>[百部根, 升麻, 桂心, 五味子, 甘草, 紫菀, 干姜]</td>\n    </tr>\n    <tr>\n      <th>2</th>\n      <td>白矾丸</td>\n      <td>[白矾, 蛇蜕皮, 青黛, 鹤虱, 朱砂, 麝香, 芦荟, 莨菪子]</td>\n    </tr>\n    <tr>\n      <th>3</th>\n      <td>白茯苓汤</td>\n      <td>[白茯苓, 五灵脂, 白芷, 黄明胶, 燥]</td>\n    </tr>\n    <tr>\n      <th>4</th>\n      <td>百果酒</td>\n      <td>[香橼, 佛手, 核桃, 龙眼肉, 莲肉, 橘饼, 柏子仁, 松子, 红枣]</td>\n    </tr>\n    <tr>\n      <th>...</th>\n      <td>...</td>\n      <td>...</td>\n    </tr>\n    <tr>\n      <th>236</th>\n      <td>延寿丹</td>\n      <td>[天门冬, 远志, 山药, 巴戟, 赤石脂, 车前子, 菖蒲, 柏子仁, 泽泻, 川椒, 熟...</td>\n    </tr>\n    <tr>\n      <th>237</th>\n      <td>玉真丸</td>\n      <td>[龙骨, 菟丝子, 鹿茸, 韭子]</td>\n    </tr>\n    <tr>\n      <th>238</th>\n      <td>钟乳泽兰圆</td>\n      <td>[钟乳粉, 泽兰, 芜荑, 麦门冬, 山茱萸, 艾叶, 防风, 柏子仁, 人参, 石膏, 石...</td>\n    </tr>\n    <tr>\n      <th>239</th>\n      <td>驻世珍馐</td>\n      <td>[当归, 白芍, 熟地黄, 菟丝子, 巴戟, 肉苁蓉, 益智仁, 牛膝, 杜仲, 山药, 青...</td>\n    </tr>\n    <tr>\n      <th>240</th>\n      <td>茱萸内消圆</td>\n      <td>[吴茱萸, 陈皮, 肉桂, 马蔺花, 青皮, 山药, 茴香, 山茱萸, 木香]</td>\n    </tr>\n  </tbody>\n</table>\n<p>240 rows × 2 columns</p>\n</div>"
     },
     "execution_count": 75,
     "metadata": {},
     "output_type": "execute_result"
    }
   ],
   "source": [
    "data = data.dropna()\n",
    "data"
   ],
   "metadata": {
    "collapsed": false,
    "ExecuteTime": {
     "end_time": "2023-11-17T06:43:13.538620300Z",
     "start_time": "2023-11-17T06:43:13.392946700Z"
    }
   },
   "id": "90720057fe870732"
  },
  {
   "cell_type": "code",
   "execution_count": 76,
   "outputs": [
    {
     "data": {
      "text/plain": "0       肉桂\n0       川乌\n0       桃仁\n0      白蒺藜\n0       巴戟\n      ... \n240     青皮\n240     山药\n240     茴香\n240    山茱萸\n240     木香\nName: prescription_list, Length: 2158, dtype: object"
     },
     "execution_count": 76,
     "metadata": {},
     "output_type": "execute_result"
    }
   ],
   "source": [
    "# 展开列表\n",
    "df_exploded = data['prescription_list'].explode()\n",
    "df_exploded"
   ],
   "metadata": {
    "collapsed": false,
    "ExecuteTime": {
     "end_time": "2023-11-17T06:43:13.558518800Z",
     "start_time": "2023-11-17T06:43:13.423882700Z"
    }
   },
   "id": "3c09564200d409e6"
  },
  {
   "cell_type": "code",
   "execution_count": 77,
   "outputs": [
    {
     "data": {
      "text/plain": "        丁香     丹参     丹砂     乌头    乌梅肉     乌药     乳汁     乳香    五加皮     五味  \\\n0    False  False  False  False  False  False  False  False  False  False   \n0    False  False  False  False  False  False  False  False  False  False   \n0    False  False  False  False  False  False  False  False  False  False   \n0    False  False  False  False  False  False  False  False  False  False   \n0    False  False  False  False  False  False  False  False  False  False   \n..     ...    ...    ...    ...    ...    ...    ...    ...    ...    ...   \n240  False  False  False  False  False  False  False  False  False  False   \n240  False  False  False  False  False  False  False  False  False  False   \n240  False  False  False  False  False  False  False  False  False  False   \n240  False  False  False  False  False  False  False  False  False  False   \n240  False  False  False  False  False  False  False  False  False  False   \n\n     ...     黄连     黄酒     黄鳝     黑豆     鼠妇    鼠粘子    龙眼肉     龙骨     龙齿     龟版  \n0    ...  False  False  False  False  False  False  False  False  False  False  \n0    ...  False  False  False  False  False  False  False  False  False  False  \n0    ...  False  False  False  False  False  False  False  False  False  False  \n0    ...  False  False  False  False  False  False  False  False  False  False  \n0    ...  False  False  False  False  False  False  False  False  False  False  \n..   ...    ...    ...    ...    ...    ...    ...    ...    ...    ...    ...  \n240  ...  False  False  False  False  False  False  False  False  False  False  \n240  ...  False  False  False  False  False  False  False  False  False  False  \n240  ...  False  False  False  False  False  False  False  False  False  False  \n240  ...  False  False  False  False  False  False  False  False  False  False  \n240  ...  False  False  False  False  False  False  False  False  False  False  \n\n[2158 rows x 450 columns]",
      "text/html": "<div>\n<style scoped>\n    .dataframe tbody tr th:only-of-type {\n        vertical-align: middle;\n    }\n\n    .dataframe tbody tr th {\n        vertical-align: top;\n    }\n\n    .dataframe thead th {\n        text-align: right;\n    }\n</style>\n<table border=\"1\" class=\"dataframe\">\n  <thead>\n    <tr style=\"text-align: right;\">\n      <th></th>\n      <th>丁香</th>\n      <th>丹参</th>\n      <th>丹砂</th>\n      <th>乌头</th>\n      <th>乌梅肉</th>\n      <th>乌药</th>\n      <th>乳汁</th>\n      <th>乳香</th>\n      <th>五加皮</th>\n      <th>五味</th>\n      <th>...</th>\n      <th>黄连</th>\n      <th>黄酒</th>\n      <th>黄鳝</th>\n      <th>黑豆</th>\n      <th>鼠妇</th>\n      <th>鼠粘子</th>\n      <th>龙眼肉</th>\n      <th>龙骨</th>\n      <th>龙齿</th>\n      <th>龟版</th>\n    </tr>\n  </thead>\n  <tbody>\n    <tr>\n      <th>0</th>\n      <td>False</td>\n      <td>False</td>\n      <td>False</td>\n      <td>False</td>\n      <td>False</td>\n      <td>False</td>\n      <td>False</td>\n      <td>False</td>\n      <td>False</td>\n      <td>False</td>\n      <td>...</td>\n      <td>False</td>\n      <td>False</td>\n      <td>False</td>\n      <td>False</td>\n      <td>False</td>\n      <td>False</td>\n      <td>False</td>\n      <td>False</td>\n      <td>False</td>\n      <td>False</td>\n    </tr>\n    <tr>\n      <th>0</th>\n      <td>False</td>\n      <td>False</td>\n      <td>False</td>\n      <td>False</td>\n      <td>False</td>\n      <td>False</td>\n      <td>False</td>\n      <td>False</td>\n      <td>False</td>\n      <td>False</td>\n      <td>...</td>\n      <td>False</td>\n      <td>False</td>\n      <td>False</td>\n      <td>False</td>\n      <td>False</td>\n      <td>False</td>\n      <td>False</td>\n      <td>False</td>\n      <td>False</td>\n      <td>False</td>\n    </tr>\n    <tr>\n      <th>0</th>\n      <td>False</td>\n      <td>False</td>\n      <td>False</td>\n      <td>False</td>\n      <td>False</td>\n      <td>False</td>\n      <td>False</td>\n      <td>False</td>\n      <td>False</td>\n      <td>False</td>\n      <td>...</td>\n      <td>False</td>\n      <td>False</td>\n      <td>False</td>\n      <td>False</td>\n      <td>False</td>\n      <td>False</td>\n      <td>False</td>\n      <td>False</td>\n      <td>False</td>\n      <td>False</td>\n    </tr>\n    <tr>\n      <th>0</th>\n      <td>False</td>\n      <td>False</td>\n      <td>False</td>\n      <td>False</td>\n      <td>False</td>\n      <td>False</td>\n      <td>False</td>\n      <td>False</td>\n      <td>False</td>\n      <td>False</td>\n      <td>...</td>\n      <td>False</td>\n      <td>False</td>\n      <td>False</td>\n      <td>False</td>\n      <td>False</td>\n      <td>False</td>\n      <td>False</td>\n      <td>False</td>\n      <td>False</td>\n      <td>False</td>\n    </tr>\n    <tr>\n      <th>0</th>\n      <td>False</td>\n      <td>False</td>\n      <td>False</td>\n      <td>False</td>\n      <td>False</td>\n      <td>False</td>\n      <td>False</td>\n      <td>False</td>\n      <td>False</td>\n      <td>False</td>\n      <td>...</td>\n      <td>False</td>\n      <td>False</td>\n      <td>False</td>\n      <td>False</td>\n      <td>False</td>\n      <td>False</td>\n      <td>False</td>\n      <td>False</td>\n      <td>False</td>\n      <td>False</td>\n    </tr>\n    <tr>\n      <th>...</th>\n      <td>...</td>\n      <td>...</td>\n      <td>...</td>\n      <td>...</td>\n      <td>...</td>\n      <td>...</td>\n      <td>...</td>\n      <td>...</td>\n      <td>...</td>\n      <td>...</td>\n      <td>...</td>\n      <td>...</td>\n      <td>...</td>\n      <td>...</td>\n      <td>...</td>\n      <td>...</td>\n      <td>...</td>\n      <td>...</td>\n      <td>...</td>\n      <td>...</td>\n      <td>...</td>\n    </tr>\n    <tr>\n      <th>240</th>\n      <td>False</td>\n      <td>False</td>\n      <td>False</td>\n      <td>False</td>\n      <td>False</td>\n      <td>False</td>\n      <td>False</td>\n      <td>False</td>\n      <td>False</td>\n      <td>False</td>\n      <td>...</td>\n      <td>False</td>\n      <td>False</td>\n      <td>False</td>\n      <td>False</td>\n      <td>False</td>\n      <td>False</td>\n      <td>False</td>\n      <td>False</td>\n      <td>False</td>\n      <td>False</td>\n    </tr>\n    <tr>\n      <th>240</th>\n      <td>False</td>\n      <td>False</td>\n      <td>False</td>\n      <td>False</td>\n      <td>False</td>\n      <td>False</td>\n      <td>False</td>\n      <td>False</td>\n      <td>False</td>\n      <td>False</td>\n      <td>...</td>\n      <td>False</td>\n      <td>False</td>\n      <td>False</td>\n      <td>False</td>\n      <td>False</td>\n      <td>False</td>\n      <td>False</td>\n      <td>False</td>\n      <td>False</td>\n      <td>False</td>\n    </tr>\n    <tr>\n      <th>240</th>\n      <td>False</td>\n      <td>False</td>\n      <td>False</td>\n      <td>False</td>\n      <td>False</td>\n      <td>False</td>\n      <td>False</td>\n      <td>False</td>\n      <td>False</td>\n      <td>False</td>\n      <td>...</td>\n      <td>False</td>\n      <td>False</td>\n      <td>False</td>\n      <td>False</td>\n      <td>False</td>\n      <td>False</td>\n      <td>False</td>\n      <td>False</td>\n      <td>False</td>\n      <td>False</td>\n    </tr>\n    <tr>\n      <th>240</th>\n      <td>False</td>\n      <td>False</td>\n      <td>False</td>\n      <td>False</td>\n      <td>False</td>\n      <td>False</td>\n      <td>False</td>\n      <td>False</td>\n      <td>False</td>\n      <td>False</td>\n      <td>...</td>\n      <td>False</td>\n      <td>False</td>\n      <td>False</td>\n      <td>False</td>\n      <td>False</td>\n      <td>False</td>\n      <td>False</td>\n      <td>False</td>\n      <td>False</td>\n      <td>False</td>\n    </tr>\n    <tr>\n      <th>240</th>\n      <td>False</td>\n      <td>False</td>\n      <td>False</td>\n      <td>False</td>\n      <td>False</td>\n      <td>False</td>\n      <td>False</td>\n      <td>False</td>\n      <td>False</td>\n      <td>False</td>\n      <td>...</td>\n      <td>False</td>\n      <td>False</td>\n      <td>False</td>\n      <td>False</td>\n      <td>False</td>\n      <td>False</td>\n      <td>False</td>\n      <td>False</td>\n      <td>False</td>\n      <td>False</td>\n    </tr>\n  </tbody>\n</table>\n<p>2158 rows × 450 columns</p>\n</div>"
     },
     "execution_count": 77,
     "metadata": {},
     "output_type": "execute_result"
    }
   ],
   "source": [
    "# 应用one-hot编码\n",
    "df_dummies = pd.get_dummies(df_exploded)\n",
    "df_dummies"
   ],
   "metadata": {
    "collapsed": false,
    "ExecuteTime": {
     "end_time": "2023-11-17T06:43:13.610780900Z",
     "start_time": "2023-11-17T06:43:13.439673500Z"
    }
   },
   "id": "caa66ccfd23910c5"
  },
  {
   "cell_type": "code",
   "execution_count": 78,
   "outputs": [
    {
     "data": {
      "text/plain": "     丁香  丹参  丹砂  乌头  乌梅肉  乌药  乳汁  乳香  五加皮  五味  ...  黄连  黄酒  黄鳝  黑豆  鼠妇  鼠粘子  \\\n0     0   0   0   0    0   0   0   0    0   0  ...   0   0   0   0   0    0   \n1     0   0   0   0    0   0   0   0    0   0  ...   0   0   0   0   0    0   \n2     0   0   0   0    0   0   0   0    0   0  ...   0   0   0   0   0    0   \n3     0   0   0   0    0   0   0   0    0   0  ...   0   0   0   0   0    0   \n4     0   0   0   0    0   0   0   0    0   0  ...   0   0   0   0   0    0   \n..   ..  ..  ..  ..  ...  ..  ..  ..  ...  ..  ...  ..  ..  ..  ..  ..  ...   \n236   0   0   0   0    0   0   0   0    0   1  ...   0   0   0   0   0    0   \n237   0   0   0   0    0   0   0   0    0   0  ...   0   0   0   0   0    0   \n238   0   0   0   0    0   0   0   0    0   0  ...   0   0   0   0   0    0   \n239   0   0   0   0    0   0   0   0    0   0  ...   0   0   0   0   0    0   \n240   0   0   0   0    0   0   0   0    0   0  ...   0   0   0   0   0    0   \n\n     龙眼肉  龙骨  龙齿  龟版  \n0      0   0   0   0  \n1      0   0   0   0  \n2      0   0   0   0  \n3      0   0   0   0  \n4      1   0   0   0  \n..   ...  ..  ..  ..  \n236    0   0   0   0  \n237    0   1   0   0  \n238    0   0   0   0  \n239    0   0   0   0  \n240    0   0   0   0  \n\n[240 rows x 450 columns]",
      "text/html": "<div>\n<style scoped>\n    .dataframe tbody tr th:only-of-type {\n        vertical-align: middle;\n    }\n\n    .dataframe tbody tr th {\n        vertical-align: top;\n    }\n\n    .dataframe thead th {\n        text-align: right;\n    }\n</style>\n<table border=\"1\" class=\"dataframe\">\n  <thead>\n    <tr style=\"text-align: right;\">\n      <th></th>\n      <th>丁香</th>\n      <th>丹参</th>\n      <th>丹砂</th>\n      <th>乌头</th>\n      <th>乌梅肉</th>\n      <th>乌药</th>\n      <th>乳汁</th>\n      <th>乳香</th>\n      <th>五加皮</th>\n      <th>五味</th>\n      <th>...</th>\n      <th>黄连</th>\n      <th>黄酒</th>\n      <th>黄鳝</th>\n      <th>黑豆</th>\n      <th>鼠妇</th>\n      <th>鼠粘子</th>\n      <th>龙眼肉</th>\n      <th>龙骨</th>\n      <th>龙齿</th>\n      <th>龟版</th>\n    </tr>\n  </thead>\n  <tbody>\n    <tr>\n      <th>0</th>\n      <td>0</td>\n      <td>0</td>\n      <td>0</td>\n      <td>0</td>\n      <td>0</td>\n      <td>0</td>\n      <td>0</td>\n      <td>0</td>\n      <td>0</td>\n      <td>0</td>\n      <td>...</td>\n      <td>0</td>\n      <td>0</td>\n      <td>0</td>\n      <td>0</td>\n      <td>0</td>\n      <td>0</td>\n      <td>0</td>\n      <td>0</td>\n      <td>0</td>\n      <td>0</td>\n    </tr>\n    <tr>\n      <th>1</th>\n      <td>0</td>\n      <td>0</td>\n      <td>0</td>\n      <td>0</td>\n      <td>0</td>\n      <td>0</td>\n      <td>0</td>\n      <td>0</td>\n      <td>0</td>\n      <td>0</td>\n      <td>...</td>\n      <td>0</td>\n      <td>0</td>\n      <td>0</td>\n      <td>0</td>\n      <td>0</td>\n      <td>0</td>\n      <td>0</td>\n      <td>0</td>\n      <td>0</td>\n      <td>0</td>\n    </tr>\n    <tr>\n      <th>2</th>\n      <td>0</td>\n      <td>0</td>\n      <td>0</td>\n      <td>0</td>\n      <td>0</td>\n      <td>0</td>\n      <td>0</td>\n      <td>0</td>\n      <td>0</td>\n      <td>0</td>\n      <td>...</td>\n      <td>0</td>\n      <td>0</td>\n      <td>0</td>\n      <td>0</td>\n      <td>0</td>\n      <td>0</td>\n      <td>0</td>\n      <td>0</td>\n      <td>0</td>\n      <td>0</td>\n    </tr>\n    <tr>\n      <th>3</th>\n      <td>0</td>\n      <td>0</td>\n      <td>0</td>\n      <td>0</td>\n      <td>0</td>\n      <td>0</td>\n      <td>0</td>\n      <td>0</td>\n      <td>0</td>\n      <td>0</td>\n      <td>...</td>\n      <td>0</td>\n      <td>0</td>\n      <td>0</td>\n      <td>0</td>\n      <td>0</td>\n      <td>0</td>\n      <td>0</td>\n      <td>0</td>\n      <td>0</td>\n      <td>0</td>\n    </tr>\n    <tr>\n      <th>4</th>\n      <td>0</td>\n      <td>0</td>\n      <td>0</td>\n      <td>0</td>\n      <td>0</td>\n      <td>0</td>\n      <td>0</td>\n      <td>0</td>\n      <td>0</td>\n      <td>0</td>\n      <td>...</td>\n      <td>0</td>\n      <td>0</td>\n      <td>0</td>\n      <td>0</td>\n      <td>0</td>\n      <td>0</td>\n      <td>1</td>\n      <td>0</td>\n      <td>0</td>\n      <td>0</td>\n    </tr>\n    <tr>\n      <th>...</th>\n      <td>...</td>\n      <td>...</td>\n      <td>...</td>\n      <td>...</td>\n      <td>...</td>\n      <td>...</td>\n      <td>...</td>\n      <td>...</td>\n      <td>...</td>\n      <td>...</td>\n      <td>...</td>\n      <td>...</td>\n      <td>...</td>\n      <td>...</td>\n      <td>...</td>\n      <td>...</td>\n      <td>...</td>\n      <td>...</td>\n      <td>...</td>\n      <td>...</td>\n      <td>...</td>\n    </tr>\n    <tr>\n      <th>236</th>\n      <td>0</td>\n      <td>0</td>\n      <td>0</td>\n      <td>0</td>\n      <td>0</td>\n      <td>0</td>\n      <td>0</td>\n      <td>0</td>\n      <td>0</td>\n      <td>1</td>\n      <td>...</td>\n      <td>0</td>\n      <td>0</td>\n      <td>0</td>\n      <td>0</td>\n      <td>0</td>\n      <td>0</td>\n      <td>0</td>\n      <td>0</td>\n      <td>0</td>\n      <td>0</td>\n    </tr>\n    <tr>\n      <th>237</th>\n      <td>0</td>\n      <td>0</td>\n      <td>0</td>\n      <td>0</td>\n      <td>0</td>\n      <td>0</td>\n      <td>0</td>\n      <td>0</td>\n      <td>0</td>\n      <td>0</td>\n      <td>...</td>\n      <td>0</td>\n      <td>0</td>\n      <td>0</td>\n      <td>0</td>\n      <td>0</td>\n      <td>0</td>\n      <td>0</td>\n      <td>1</td>\n      <td>0</td>\n      <td>0</td>\n    </tr>\n    <tr>\n      <th>238</th>\n      <td>0</td>\n      <td>0</td>\n      <td>0</td>\n      <td>0</td>\n      <td>0</td>\n      <td>0</td>\n      <td>0</td>\n      <td>0</td>\n      <td>0</td>\n      <td>0</td>\n      <td>...</td>\n      <td>0</td>\n      <td>0</td>\n      <td>0</td>\n      <td>0</td>\n      <td>0</td>\n      <td>0</td>\n      <td>0</td>\n      <td>0</td>\n      <td>0</td>\n      <td>0</td>\n    </tr>\n    <tr>\n      <th>239</th>\n      <td>0</td>\n      <td>0</td>\n      <td>0</td>\n      <td>0</td>\n      <td>0</td>\n      <td>0</td>\n      <td>0</td>\n      <td>0</td>\n      <td>0</td>\n      <td>0</td>\n      <td>...</td>\n      <td>0</td>\n      <td>0</td>\n      <td>0</td>\n      <td>0</td>\n      <td>0</td>\n      <td>0</td>\n      <td>0</td>\n      <td>0</td>\n      <td>0</td>\n      <td>0</td>\n    </tr>\n    <tr>\n      <th>240</th>\n      <td>0</td>\n      <td>0</td>\n      <td>0</td>\n      <td>0</td>\n      <td>0</td>\n      <td>0</td>\n      <td>0</td>\n      <td>0</td>\n      <td>0</td>\n      <td>0</td>\n      <td>...</td>\n      <td>0</td>\n      <td>0</td>\n      <td>0</td>\n      <td>0</td>\n      <td>0</td>\n      <td>0</td>\n      <td>0</td>\n      <td>0</td>\n      <td>0</td>\n      <td>0</td>\n    </tr>\n  </tbody>\n</table>\n<p>240 rows × 450 columns</p>\n</div>"
     },
     "execution_count": 78,
     "metadata": {},
     "output_type": "execute_result"
    }
   ],
   "source": [
    "# 聚合数据回到原始的DataFrame\n",
    "df_one_hot = df_dummies.groupby(df_dummies.index).sum()\n",
    "df_one_hot"
   ],
   "metadata": {
    "collapsed": false,
    "ExecuteTime": {
     "end_time": "2023-11-17T06:43:13.616888200Z",
     "start_time": "2023-11-17T06:43:13.471157100Z"
    }
   },
   "id": "2ac0dfbbe1c4ad"
  },
  {
   "cell_type": "code",
   "execution_count": 79,
   "outputs": [
    {
     "name": "stderr",
     "output_type": "stream",
     "text": [
      "D:\\developing\\anaconda3\\envs\\study_hei\\lib\\site-packages\\mlxtend\\frequent_patterns\\fpcommon.py:110: DeprecationWarning: DataFrames with non-bool types result in worse computationalperformance and their support might be discontinued in the future.Please use a DataFrame with bool type\n",
      "  warnings.warn(\n"
     ]
    },
    {
     "data": {
      "text/plain": "      support       itemsets\n157  0.041667  (人参, 黄耆, 五味子)\n104  0.041667       (当归, 牛膝)\n45   0.041667          (补骨脂)\n77   0.041667       (人参, 茯神)\n173  0.041667   (川芎, 当归, 白术)\n..        ...            ...\n48   0.200000           (附子)\n28   0.220833           (白术)\n12   0.225000           (当归)\n25   0.316667           (甘草)\n1    0.325000           (人参)\n\n[190 rows x 2 columns]",
      "text/html": "<div>\n<style scoped>\n    .dataframe tbody tr th:only-of-type {\n        vertical-align: middle;\n    }\n\n    .dataframe tbody tr th {\n        vertical-align: top;\n    }\n\n    .dataframe thead th {\n        text-align: right;\n    }\n</style>\n<table border=\"1\" class=\"dataframe\">\n  <thead>\n    <tr style=\"text-align: right;\">\n      <th></th>\n      <th>support</th>\n      <th>itemsets</th>\n    </tr>\n  </thead>\n  <tbody>\n    <tr>\n      <th>157</th>\n      <td>0.041667</td>\n      <td>(人参, 黄耆, 五味子)</td>\n    </tr>\n    <tr>\n      <th>104</th>\n      <td>0.041667</td>\n      <td>(当归, 牛膝)</td>\n    </tr>\n    <tr>\n      <th>45</th>\n      <td>0.041667</td>\n      <td>(补骨脂)</td>\n    </tr>\n    <tr>\n      <th>77</th>\n      <td>0.041667</td>\n      <td>(人参, 茯神)</td>\n    </tr>\n    <tr>\n      <th>173</th>\n      <td>0.041667</td>\n      <td>(川芎, 当归, 白术)</td>\n    </tr>\n    <tr>\n      <th>...</th>\n      <td>...</td>\n      <td>...</td>\n    </tr>\n    <tr>\n      <th>48</th>\n      <td>0.200000</td>\n      <td>(附子)</td>\n    </tr>\n    <tr>\n      <th>28</th>\n      <td>0.220833</td>\n      <td>(白术)</td>\n    </tr>\n    <tr>\n      <th>12</th>\n      <td>0.225000</td>\n      <td>(当归)</td>\n    </tr>\n    <tr>\n      <th>25</th>\n      <td>0.316667</td>\n      <td>(甘草)</td>\n    </tr>\n    <tr>\n      <th>1</th>\n      <td>0.325000</td>\n      <td>(人参)</td>\n    </tr>\n  </tbody>\n</table>\n<p>190 rows × 2 columns</p>\n</div>"
     },
     "execution_count": 79,
     "metadata": {},
     "output_type": "execute_result"
    }
   ],
   "source": [
    "# 对销量超过 1 的商品进行编码\n",
    "def one_hot_encoder(k):\n",
    "    if k <= 0:\n",
    "        return 0\n",
    "    if k >= 1:\n",
    "        return 1\n",
    "baskets_final = df_one_hot.iloc[:, 1:df_one_hot.shape[1]].applymap(one_hot_encoder)\n",
    "# 找出最常一起出售的商品\n",
    "frequent_itemsets = apriori(baskets_final, min_support=0.038, use_colnames=True, max_len=4).sort_values(by='support')\n",
    "frequent_itemsets"
   ],
   "metadata": {
    "collapsed": false,
    "ExecuteTime": {
     "end_time": "2023-11-17T06:43:13.688436Z",
     "start_time": "2023-11-17T06:43:13.505059200Z"
    }
   },
   "id": "38bc3bad09a2c72f"
  },
  {
   "cell_type": "code",
   "execution_count": 84,
   "outputs": [
    {
     "data": {
      "text/plain": "    antecedents consequents   support  confidence      lift\n27        (菟丝子)  (山茱萸, 肉苁蓉)  0.041667    0.416667  9.090909\n26   (山茱萸, 肉苁蓉)       (菟丝子)  0.041667    0.909091  9.090909\n24   (菟丝子, 山茱萸)       (肉苁蓉)  0.041667    0.909091  8.727273\n29        (肉苁蓉)  (菟丝子, 山茱萸)  0.041667    0.400000  8.727273\n178   (菟丝子, 牛膝)       (肉苁蓉)  0.045833    0.785714  7.542857\n..          ...         ...       ...         ...       ...\n7          (牛膝)        (当归)  0.041667    0.256410  1.139601\n35         (甘草)        (木香)  0.041667    0.131579  1.127820\n34         (木香)        (甘草)  0.041667    0.357143  1.127820\n230        (附子)        (当归)  0.050000    0.250000  1.111111\n231        (当归)        (附子)  0.050000    0.222222  1.111111\n\n[426 rows x 5 columns]",
      "text/html": "<div>\n<style scoped>\n    .dataframe tbody tr th:only-of-type {\n        vertical-align: middle;\n    }\n\n    .dataframe tbody tr th {\n        vertical-align: top;\n    }\n\n    .dataframe thead th {\n        text-align: right;\n    }\n</style>\n<table border=\"1\" class=\"dataframe\">\n  <thead>\n    <tr style=\"text-align: right;\">\n      <th></th>\n      <th>antecedents</th>\n      <th>consequents</th>\n      <th>support</th>\n      <th>confidence</th>\n      <th>lift</th>\n    </tr>\n  </thead>\n  <tbody>\n    <tr>\n      <th>27</th>\n      <td>(菟丝子)</td>\n      <td>(山茱萸, 肉苁蓉)</td>\n      <td>0.041667</td>\n      <td>0.416667</td>\n      <td>9.090909</td>\n    </tr>\n    <tr>\n      <th>26</th>\n      <td>(山茱萸, 肉苁蓉)</td>\n      <td>(菟丝子)</td>\n      <td>0.041667</td>\n      <td>0.909091</td>\n      <td>9.090909</td>\n    </tr>\n    <tr>\n      <th>24</th>\n      <td>(菟丝子, 山茱萸)</td>\n      <td>(肉苁蓉)</td>\n      <td>0.041667</td>\n      <td>0.909091</td>\n      <td>8.727273</td>\n    </tr>\n    <tr>\n      <th>29</th>\n      <td>(肉苁蓉)</td>\n      <td>(菟丝子, 山茱萸)</td>\n      <td>0.041667</td>\n      <td>0.400000</td>\n      <td>8.727273</td>\n    </tr>\n    <tr>\n      <th>178</th>\n      <td>(菟丝子, 牛膝)</td>\n      <td>(肉苁蓉)</td>\n      <td>0.045833</td>\n      <td>0.785714</td>\n      <td>7.542857</td>\n    </tr>\n    <tr>\n      <th>...</th>\n      <td>...</td>\n      <td>...</td>\n      <td>...</td>\n      <td>...</td>\n      <td>...</td>\n    </tr>\n    <tr>\n      <th>7</th>\n      <td>(牛膝)</td>\n      <td>(当归)</td>\n      <td>0.041667</td>\n      <td>0.256410</td>\n      <td>1.139601</td>\n    </tr>\n    <tr>\n      <th>35</th>\n      <td>(甘草)</td>\n      <td>(木香)</td>\n      <td>0.041667</td>\n      <td>0.131579</td>\n      <td>1.127820</td>\n    </tr>\n    <tr>\n      <th>34</th>\n      <td>(木香)</td>\n      <td>(甘草)</td>\n      <td>0.041667</td>\n      <td>0.357143</td>\n      <td>1.127820</td>\n    </tr>\n    <tr>\n      <th>230</th>\n      <td>(附子)</td>\n      <td>(当归)</td>\n      <td>0.050000</td>\n      <td>0.250000</td>\n      <td>1.111111</td>\n    </tr>\n    <tr>\n      <th>231</th>\n      <td>(当归)</td>\n      <td>(附子)</td>\n      <td>0.050000</td>\n      <td>0.222222</td>\n      <td>1.111111</td>\n    </tr>\n  </tbody>\n</table>\n<p>426 rows × 5 columns</p>\n</div>"
     },
     "execution_count": 84,
     "metadata": {},
     "output_type": "execute_result"
    }
   ],
   "source": [
    "# 创建关联规则，指明前因后果项目\n",
    "rules = association_rules(frequent_itemsets, metric=\"lift\", min_threshold=1).sort_values('lift', ascending=False)\n",
    "rules = rules[['antecedents', 'consequents', 'support', 'confidence', 'lift']]\n",
    "rules"
   ],
   "metadata": {
    "collapsed": false,
    "ExecuteTime": {
     "end_time": "2023-11-17T08:08:36.514064900Z",
     "start_time": "2023-11-17T08:08:36.482065700Z"
    }
   },
   "id": "1637300d344839f8"
  },
  {
   "cell_type": "code",
   "execution_count": 81,
   "outputs": [],
   "source": [
    "from pyecharts import options as opts\n",
    "from pyecharts.charts import Graph\n",
    "import time\n",
    "nodes_data = set()\n",
    "\n",
    "links = []\n",
    "def map(data, MIN, MAX):\n",
    "    \"\"\"\n",
    "    归一化映射到任意区间\n",
    "    :param data: 数据\n",
    "    :param MIN: 目标数据最小值\n",
    "    :param MAX: 目标数据最小值\n",
    "    :return:\n",
    "    \"\"\"\n",
    "    d_min = data.min()  # 当前数据最大值\n",
    "    d_max = data.max()  # 当前数据最小值\n",
    "    return MIN + (MAX - MIN) / (d_max - d_min) * (data - d_min)\n",
    "\n",
    "\n",
    "maplift = map(rules.lift, 0.1, 5)\n",
    "maplift = maplift[::-1]\n",
    "rules = rules[::-1]\n",
    "\n",
    "for i in range(rules.shape[0]):\n",
    "    item = rules.iloc[i]\n",
    "    for antecedent in item.antecedents:\n",
    "        for consequent in item.consequents:\n",
    "            nodes_data.add(antecedent)\n",
    "            nodes_data.add(consequent)\n",
    "            links.append({\n",
    "                \"id\": time.time(),\n",
    "                \"source\": antecedent,\n",
    "                \"target\": consequent,\n",
    "                \"lineStyle\": opts.LineStyleOpts(width=maplift.iloc[i], color=\"source\", curve=0.3),\n",
    "            })\n",
    "\n",
    "nodes = [{\"name\": x, \"symbolSize\": 5} for x in nodes_data]\n",
    "\n",
    "\n",
    "categories = [{\n",
    "    \"name\": \"补虚中药关系\"\n",
    "}, ]\n",
    "c = (\n",
    "    Graph(init_opts=opts.InitOpts(width=\"1000px\", height=\"1000px\"))\n",
    "    .add(\n",
    "        \"\",\n",
    "        nodes=nodes,\n",
    "        links=links,\n",
    "        categories=categories,\n",
    "        layout=\"circular\",\n",
    "        is_rotate_label=True,\n",
    "        itemstyle_opts=opts.ItemStyleOpts(color='#4B008299'),\n",
    "        linestyle_opts=opts.LineStyleOpts(color=\"source\", curve=0.3),\n",
    "        label_opts=opts.LabelOpts(position=\"right\"),\n",
    "    )\n",
    "    .set_global_opts(\n",
    "        title_opts=opts.TitleOpts(title=\"Graph-Les Miserables\"),\n",
    "        legend_opts=opts.LegendOpts(orient=\"vertical\", pos_left=\"2%\", pos_top=\"20%\"),\n",
    "    )\n",
    "    .render(\"graph_les_miserables_tcm.html\")\n",
    ")\n"
   ],
   "metadata": {
    "collapsed": false,
    "ExecuteTime": {
     "end_time": "2023-11-17T06:43:13.807983100Z",
     "start_time": "2023-11-17T06:43:13.641522600Z"
    }
   },
   "id": "39d53463b4618f6a"
  },
  {
   "cell_type": "code",
   "execution_count": 81,
   "outputs": [],
   "source": [],
   "metadata": {
    "collapsed": false,
    "ExecuteTime": {
     "end_time": "2023-11-17T06:43:13.901614400Z",
     "start_time": "2023-11-17T06:43:13.733734600Z"
    }
   },
   "id": "ac5b38f91d982551"
  }
 ],
 "metadata": {
  "kernelspec": {
   "display_name": "Python 3",
   "language": "python",
   "name": "python3"
  },
  "language_info": {
   "codemirror_mode": {
    "name": "ipython",
    "version": 2
   },
   "file_extension": ".py",
   "mimetype": "text/x-python",
   "name": "python",
   "nbconvert_exporter": "python",
   "pygments_lexer": "ipython2",
   "version": "2.7.6"
  }
 },
 "nbformat": 4,
 "nbformat_minor": 5
}
